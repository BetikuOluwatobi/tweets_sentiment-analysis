{
 "cells": [
  {
   "cell_type": "markdown",
   "metadata": {},
   "source": [
    "## Preprocessing\n",
    "preprocessing tweets for sentiment analysis"
   ]
  },
  {
   "cell_type": "code",
   "execution_count": 1,
   "metadata": {},
   "outputs": [],
   "source": [
    "import nltk                                # Python library for NLP\n",
    "from nltk.corpus import twitter_samples    # sample Twitter dataset from NLTK\n",
    "import matplotlib.pyplot as plt            # library for visualization\n",
    "import random                              # pseudo-random number generator\n",
    "import numpy as np\n",
    "%matplotlib inline"
   ]
  },
  {
   "cell_type": "markdown",
   "metadata": {},
   "source": [
    "#### loading the text fields of the positive and negative tweets by using the module's strings() method "
   ]
  },
  {
   "cell_type": "code",
   "execution_count": 2,
   "metadata": {},
   "outputs": [],
   "source": [
    "# selecting the set of positive and negative tweets\n",
    "all_positive_tweets = twitter_samples.strings('positive_tweets.json')\n",
    "all_negative_tweets = twitter_samples.strings('negative_tweets.json')"
   ]
  },
  {
   "cell_type": "markdown",
   "metadata": {},
   "source": [
    " ### printing a report with the number of positive and negative tweets to know the data structure of the datasets"
   ]
  },
  {
   "cell_type": "code",
   "execution_count": 3,
   "metadata": {},
   "outputs": [
    {
     "name": "stdout",
     "output_type": "stream",
     "text": [
      "Number of positive tweets: 5000\n",
      "Number of positive tweets: 5000\n",
      "\n",
      "\n",
      "The type of all_positive_tweets is: <type 'list'>\n",
      "The type of a tweet entry is: <type 'unicode'>\n"
     ]
    }
   ],
   "source": [
    "print('Number of positive tweets: {}'.format(len(all_positive_tweets)))\n",
    "print('Number of positive tweets: {}\\n'.format(len(all_negative_tweets)))\n",
    "\n",
    "print('\\nThe type of all_positive_tweets is: {}'.format(type(all_positive_tweets)))\n",
    "print('The type of a tweet entry is: {}'.format(type(all_negative_tweets[0])))"
   ]
  },
  {
   "cell_type": "markdown",
   "metadata": {},
   "source": [
    "### A more visually appealing report by using Matplotlib's pyplot library. "
   ]
  },
  {
   "cell_type": "code",
   "execution_count": 4,
   "metadata": {},
   "outputs": [
    {
     "data": {
      "text/plain": [
       "(-1.1, 1.1, -1.1, 1.1)"
      ]
     },
     "execution_count": 4,
     "metadata": {},
     "output_type": "execute_result"
    },
    {
     "data": {
      "image/png": "[encoded data removed]",
      "text/plain": [
       "<Figure size 360x360 with 1 Axes>"
      ]
     },
     "metadata": {},
     "output_type": "display_data"
    }
   ],
   "source": [
    "fig = plt.figure(figsize=(5,5))\n",
    "\n",
    "# labels for the two classes\n",
    "labels = 'Positives', 'Negative'\n",
    "# Sizes for each slide\n",
    "sizes = [len(all_positive_tweets), len(all_negative_tweets)] \n",
    "\n",
    "# Declare pie chart, where the slices will be ordered and plotted counter-clockwise:\n",
    "plt.pie(x=sizes,labels=labels,autopct='%1.1f%%',\n",
    "        shadow=True, startangle=90)\n",
    "plt.axis('equal')"
   ]
  },
  {
   "cell_type": "markdown",
   "metadata": {},
   "source": [
    "### Looking at raw texts"
   ]
  },
  {
   "cell_type": "code",
   "execution_count": 5,
   "metadata": {},
   "outputs": [
    {
     "name": "stdout",
     "output_type": "stream",
     "text": [
      "\u001b[92m@americascup Do you have stage times for Portsmouth live? :) x\n",
      "\u001b[91mFinally watching the last #TopGear episode, hopefully it won't end :( http://t.co/75IDDesHD0\n"
     ]
    }
   ],
   "source": [
    "# prints positive class in greeen\n",
    "print('\\033[92m' + all_positive_tweets[random.randint(0,5000)])\n",
    "\n",
    "# prints negative class in red\n",
    "print('\\033[91m' + all_negative_tweets[random.randint(0,5000)])"
   ]
  },
  {
   "cell_type": "code",
   "execution_count": 6,
   "metadata": {},
   "outputs": [
    {
     "name": "stdout",
     "output_type": "stream",
     "text": [
      "\u001b[95m“@ketchBurning: I hate Japanese call him \"bani\" :( :(”\n",
      "\n",
      "Me too\n"
     ]
    }
   ],
   "source": [
    "print('\\033[95m'+all_negative_tweets[3])"
   ]
  },
  {
   "cell_type": "markdown",
   "metadata": {},
   "source": [
    "## Preprocessing raw text for Sentiment analysis\n",
    "#### steps followed:\n",
    "* Tokenizing the string\n",
    "* Lowercasing\n",
    "* Removing stop words and punctuation\n",
    "* Stemming"
   ]
  },
  {
   "cell_type": "code",
   "execution_count": 7,
   "metadata": {},
   "outputs": [
    {
     "name": "stdout",
     "output_type": "stream",
     "text": [
      "\u001b[94mMy beautiful sunflowers on a sunny Friday morning off :) #sunflowers #favourites #happy #Friday off… https://t.co/3tfYom0N1i\n"
     ]
    }
   ],
   "source": [
    "# Our selected sample is Complex enough to exemplify each step\n",
    "tweet = all_positive_tweets[2277]\n",
    "print('\\033[94m'+tweet)"
   ]
  },
  {
   "cell_type": "code",
   "execution_count": 8,
   "metadata": {},
   "outputs": [],
   "source": [
    "#importing libraries for text preprocessing\n",
    "from nltk.corpus import stopwords\n",
    "from nltk.stem import PorterStemmer\n",
    "from nltk.tokenize import TweetTokenizer"
   ]
  },
  {
   "cell_type": "code",
   "execution_count": 9,
   "metadata": {},
   "outputs": [],
   "source": [
    "import re\n",
    "import string"
   ]
  },
  {
   "cell_type": "markdown",
   "metadata": {},
   "source": [
    "### Remove hyperlinks,  Twitter marks and styles\n",
    "\n",
    "Since the dataset is a Twitter dataset, i'd like to remove some substrings commonly used on the platform like the hashtag, retweet marks, and hyperlinks. i'll be using the [re](https://docs.python.org/3/library/re.html) library to perform regular expression operations on our tweet. I defined the search pattern and use the `sub()` method to remove matches by substituting with an empty character (i.e. `''`)"
   ]
  },
  {
   "cell_type": "code",
   "execution_count": 10,
   "metadata": {},
   "outputs": [
    {
     "name": "stdout",
     "output_type": "stream",
     "text": [
      "\u001b[92mMy beautiful sunflowers on a sunny Friday morning off :) #sunflowers #favourites #happy #Friday off… https://t.co/3tfYom0N1i\n",
      "\u001b[94m\n",
      "My beautiful sunflowers on a sunny Friday morning off :) sunflowers favourites happy Friday off… \n"
     ]
    }
   ],
   "source": [
    "print('\\033[92m' + tweet)\n",
    "print('\\033[94m')\n",
    "\n",
    "# removing old style retweet text \"RT\"\n",
    "tweet2 = re.sub(r'^RT[\\s]+', '', tweet)\n",
    "\n",
    "# removing hyperlinks in between and at the end of tweet\n",
    "tweet2 = re.sub(r'http\\S+', '', tweet2)\n",
    "\n",
    "# removing hashtags\n",
    "# only removing the hash # sign from the word\n",
    "tweet2 = re.sub(r'#', '', tweet2)\n",
    "\n",
    "print(tweet2)"
   ]
  },
  {
   "cell_type": "markdown",
   "metadata": {},
   "source": [
    "### Tokenizing the string"
   ]
  },
  {
   "cell_type": "code",
   "execution_count": 11,
   "metadata": {},
   "outputs": [
    {
     "name": "stdout",
     "output_type": "stream",
     "text": [
      " \n",
      "\u001b[92mMy beautiful sunflowers on a sunny Friday morning off :) sunflowers favourites happy Friday off… \n",
      "\u001b[94m\n",
      " \n",
      "Tokenized string:\n",
      "[u'my', u'beautiful', u'sunflowers', u'on', u'a', u'sunny', u'friday', u'morning', u'off', u':)', u'sunflowers', u'favourites', u'happy', u'friday', u'off', u'\\u2026']\n"
     ]
    }
   ],
   "source": [
    "print(' ')\n",
    "print('\\033[92m' + tweet2)\n",
    "print('\\033[94m')\n",
    "\n",
    "# instantiate tokenizer class\n",
    "tokenizer = TweetTokenizer(reduce_len=True,preserve_case=False,strip_handles=True)\n",
    "#Tokenize tweet\n",
    "tweet_tokens = tokenizer.tokenize(tweet2)\n",
    "print(' ')\n",
    "\n",
    "print('Tokenized string:')\n",
    "print(tweet_tokens)"
   ]
  },
  {
   "cell_type": "markdown",
   "metadata": {},
   "source": [
    "### Removing stop words and punctuations"
   ]
  },
  {
   "cell_type": "code",
   "execution_count": 12,
   "metadata": {},
   "outputs": [],
   "source": [
    "#Isntantiate the stopwords list\n",
    "stopwords_english = stopwords.words('english')"
   ]
  },
  {
   "cell_type": "code",
   "execution_count": 13,
   "metadata": {},
   "outputs": [
    {
     "name": "stdout",
     "output_type": "stream",
     "text": [
      "Stop words\n",
      "\n",
      "[u'i', u'me', u'my', u'myself', u'we', u'our', u'ours', u'ourselves', u'you', u\"you're\", u\"you've\", u\"you'll\", u\"you'd\", u'your', u'yours', u'yourself', u'yourselves', u'he', u'him', u'his', u'himself', u'she', u\"she's\", u'her', u'hers', u'herself', u'it', u\"it's\", u'its', u'itself', u'they', u'them', u'their', u'theirs', u'themselves', u'what', u'which', u'who', u'whom', u'this', u'that', u\"that'll\", u'these', u'those', u'am', u'is', u'are', u'was', u'were', u'be', u'been', u'being', u'have', u'has', u'had', u'having', u'do', u'does', u'did', u'doing', u'a', u'an', u'the', u'and', u'but', u'if', u'or', u'because', u'as', u'until', u'while', u'of', u'at', u'by', u'for', u'with', u'about', u'against', u'between', u'into', u'through', u'during', u'before', u'after', u'above', u'below', u'to', u'from', u'up', u'down', u'in', u'out', u'on', u'off', u'over', u'under', u'again', u'further', u'then', u'once', u'here', u'there', u'when', u'where', u'why', u'how', u'all', u'any', u'both', u'each', u'few', u'more', u'most', u'other', u'some', u'such', u'no', u'nor', u'not', u'only', u'own', u'same', u'so', u'than', u'too', u'very', u's', u't', u'can', u'will', u'just', u'don', u\"don't\", u'should', u\"should've\", u'now', u'd', u'll', u'm', u'o', u're', u've', u'y', u'ain', u'aren', u\"aren't\", u'couldn', u\"couldn't\", u'didn', u\"didn't\", u'doesn', u\"doesn't\", u'hadn', u\"hadn't\", u'hasn', u\"hasn't\", u'haven', u\"haven't\", u'isn', u\"isn't\", u'ma', u'mightn', u\"mightn't\", u'mustn', u\"mustn't\", u'needn', u\"needn't\", u'shan', u\"shan't\", u'shouldn', u\"shouldn't\", u'wasn', u\"wasn't\", u'weren', u\"weren't\", u'won', u\"won't\", u'wouldn', u\"wouldn't\"]\n"
     ]
    }
   ],
   "source": [
    "print('Stop words\\n')\n",
    "print(stopwords_english)"
   ]
  },
  {
   "cell_type": "code",
   "execution_count": 14,
   "metadata": {},
   "outputs": [
    {
     "name": "stdout",
     "output_type": "stream",
     "text": [
      "\n",
      "Punctuation\n",
      "\n",
      "!\"#$%&'()*+,-./:;<=>?@[\\]^_`{|}~\n"
     ]
    }
   ],
   "source": [
    "print('\\nPunctuation\\n')\n",
    "print(string.punctuation)"
   ]
  },
  {
   "cell_type": "markdown",
   "metadata": {},
   "source": [
    "#### Certain groupings like ':)' and '...' will be retained because they are used to express emotions in tweets. In other contexts however,this might need to be removed."
   ]
  },
  {
   "cell_type": "code",
   "execution_count": 15,
   "metadata": {},
   "outputs": [
    {
     "name": "stdout",
     "output_type": "stream",
     "text": [
      "!\"#$%&'*+,-/;<=>?@[\\]^_`{|}~\n"
     ]
    }
   ],
   "source": [
    "puncs = ''\n",
    "for punc in string.punctuation:\n",
    "    if punc not in '().:':\n",
    "        puncs += punc\n",
    "print(puncs)"
   ]
  },
  {
   "cell_type": "code",
   "execution_count": 16,
   "metadata": {},
   "outputs": [
    {
     "name": "stdout",
     "output_type": "stream",
     "text": [
      "\n",
      "\u001b[92m\n",
      "[u'my', u'beautiful', u'sunflowers', u'on', u'a', u'sunny', u'friday', u'morning', u'off', u':)', u'sunflowers', u'favourites', u'happy', u'friday', u'off', u'\\u2026']\n",
      "\u001b[94m\n",
      "removed stop words and punctuation:\n",
      "[u'beautiful', u'sunflowers', u'sunny', u'friday', u'morning', u':)', u'sunflowers', u'favourites', u'happy', u'friday', u'\\u2026']\n"
     ]
    }
   ],
   "source": [
    "print('')\n",
    "print('\\033[92m')\n",
    "print(tweet_tokens)\n",
    "print('\\033[94m')\n",
    "\n",
    "tweets_clean = []\n",
    "\n",
    "for word in tweet_tokens: # Go through every word in your tokens list\n",
    "    if (word not in stopwords_english and  # remove stopwords\n",
    "        word not in string.punctuation):  # remove punctuation\n",
    "        tweets_clean.append(word)\n",
    "\n",
    "print('removed stop words and punctuation:')\n",
    "print(tweets_clean)"
   ]
  },
  {
   "cell_type": "markdown",
   "metadata": {},
   "source": [
    "##### We can see that ' :) ' context is retained"
   ]
  },
  {
   "cell_type": "markdown",
   "metadata": {},
   "source": [
    "### Stemming\n",
    "Stemming, process of converting a word to its most general form, or stem. This helps in reducing the size of our vocabulary"
   ]
  },
  {
   "cell_type": "code",
   "execution_count": 17,
   "metadata": {},
   "outputs": [
    {
     "name": "stdout",
     "output_type": "stream",
     "text": [
      "\n",
      "\u001b[92m\n",
      "[u'beautiful', u'sunflowers', u'sunny', u'friday', u'morning', u':)', u'sunflowers', u'favourites', u'happy', u'friday', u'\\u2026']\n",
      "\u001b[93m\n",
      "Stem words:\n",
      "[u'beauti', u'sunflow', u'sunni', u'friday', u'morn', u':)', u'sunflow', u'favourit', u'happi', u'friday', u'\\u2026']\n"
     ]
    }
   ],
   "source": [
    "print('')\n",
    "print('\\033[92m')\n",
    "print(tweets_clean)\n",
    "print('\\033[93m')\n",
    "\n",
    "#Instantiate Stemmer\n",
    "stemmer = PorterStemmer()\n",
    "tweets_stem = []\n",
    "\n",
    "#Convert words to base form\n",
    "for word in tweets_clean:\n",
    "    stem_word = stemmer.stem(word)\n",
    "    tweets_stem.append(stem_word)\n",
    "\n",
    "print('Stem words:')\n",
    "print(tweets_stem)"
   ]
  },
  {
   "cell_type": "code",
   "execution_count": 18,
   "metadata": {},
   "outputs": [
    {
     "name": "stdout",
     "output_type": "stream",
     "text": [
      "\u001b[92m\n",
      "beauti sunflow sunni friday morn :) sunflow favourit happi friday …\n"
     ]
    }
   ],
   "source": [
    "print('\\033[92m')\n",
    "#stemmed tweet\n",
    "print(' '.join(tweets_stem))"
   ]
  },
  {
   "cell_type": "markdown",
   "metadata": {},
   "source": [
    "###  Defining all steps in a function called process_tweet()"
   ]
  },
  {
   "cell_type": "code",
   "execution_count": 19,
   "metadata": {},
   "outputs": [],
   "source": [
    "def process_tweet(tweets):\n",
    "    \"\"\"\n",
    "    This function takes a tweet and returns the processed form of the tweet.\n",
    "    Input:\n",
    "        Tweet String\n",
    "    Output:\n",
    "        clean_tweet\n",
    "    \"\"\"\n",
    "    raw_tweet = tweets\n",
    "    #removing hyperlinks,hash Tags...\n",
    "    \n",
    "    # removing old style retweet text \"RT\"\n",
    "    tweet = re.sub(r'^RT[\\s]+', '',raw_tweet)\n",
    "    # removing hyperlinks\n",
    "    tweet = re.sub(r'http\\S+', '', tweet)\n",
    "    # only removing the hash # sign from the word\n",
    "    tweet2 = re.sub(r'#', '', tweet)\n",
    "    #Tokenize tweet\n",
    "    tokenizer = TweetTokenizer(reduce_len=True,strip_handles=True,preserve_case=False)\n",
    "    #fit on tweet\n",
    "    tokenized_tweet = tokenizer.tokenize(tweet2)\n",
    "    #removing stopwords and punctuation\n",
    "    punc = [punc for punc in string.punctuation if punc not in '().:']\n",
    "    stopwords_english = stopwords.words('english')\n",
    "    stemmer = PorterStemmer()\n",
    "    clean_tweets = []\n",
    "    for word in tokenized_tweet:\n",
    "        #removes stopwords and punctuations\n",
    "        if(word not in stopwords_english and word not in punc):\n",
    "            #converts words to base root:\n",
    "            stem_word = stemmer.stem(word)\n",
    "            clean_tweets.append(stem_word)\n",
    "    return clean_tweets"
   ]
  },
  {
   "cell_type": "markdown",
   "metadata": {},
   "source": [
    "#### Testing function"
   ]
  },
  {
   "cell_type": "code",
   "execution_count": 20,
   "metadata": {},
   "outputs": [
    {
     "name": "stdout",
     "output_type": "stream",
     "text": [
      "\u001b[94mEverything in the kids section of IKEA is so cute. Shame I'm nearly 19 in 2 months :(\n",
      "\u001b[92meveryth kid section ikea cute . shame i'm nearli 19 2 month :(\n"
     ]
    }
   ],
   "source": [
    "print('\\033[94m'+all_negative_tweets[1])\n",
    "\n",
    "cleaned_tweet = process_tweet(all_negative_tweets[1])\n",
    "\n",
    "print('\\033[92m'+' '.join(cleaned_tweet))"
   ]
  },
  {
   "cell_type": "markdown",
   "metadata": {},
   "source": [
    "### We can see that the above clean_tweet has all the neccesary words needed to classify the tweet as negative"
   ]
  },
  {
   "cell_type": "markdown",
   "metadata": {},
   "source": [
    "# Building and Visualizing word frequencies for each class"
   ]
  },
  {
   "cell_type": "markdown",
   "metadata": {},
   "source": [
    "### lets build the `build_freqs()` helper function"
   ]
  },
  {
   "cell_type": "code",
   "execution_count": 21,
   "metadata": {},
   "outputs": [],
   "source": [
    "#Adding all tweets up\n",
    "tweets = all_negative_tweets + all_positive_tweets\n",
    "ys = np.append(np.ones(len(all_positive_tweets)), np.zeros(len(all_negative_tweets)))"
   ]
  },
  {
   "cell_type": "code",
   "execution_count": 22,
   "metadata": {},
   "outputs": [],
   "source": [
    "def build_freqs(tweets,ys):\n",
    "    ''' \n",
    "     Build frequencies.\n",
    "    Input:\n",
    "        tweets: a list of tweets\n",
    "        ys: an m x 1 array with the sentiment label of each tweet\n",
    "            (either 0 or 1)\n",
    "    Output:\n",
    "        freqs: a dictionary mapping each (word, sentiment) pair to its\n",
    "        frequency\n",
    "    '''\n",
    "    yslist = np.squeeze(ys).tolist()\n",
    "    freqs = {}\n",
    "    for y, tweet in zip(yslist,tweets):\n",
    "        clean_tweet = process_tweet(tweet)\n",
    "        for word in clean_tweet:\n",
    "            pair = (word,y)\n",
    "            freqs[pair] = freqs.get(pair,0) + 1\n",
    "    return freqs"
   ]
  },
  {
   "cell_type": "code",
   "execution_count": 23,
   "metadata": {},
   "outputs": [],
   "source": [
    "# word frequency dictionary\n",
    "freqs = build_freqs(tweets, ys)"
   ]
  },
  {
   "cell_type": "markdown",
   "metadata": {},
   "source": [
    "### visualizing the output to gain better insights."
   ]
  },
  {
   "cell_type": "markdown",
   "metadata": {},
   "source": [
    "## Table of word counts"
   ]
  },
  {
   "cell_type": "code",
   "execution_count": 24,
   "metadata": {},
   "outputs": [
    {
     "data": {
      "text/plain": [
       "[['happi', 25, 212],\n",
       " ['merri', 0, 1],\n",
       " ['nice', 19, 99],\n",
       " ['good', 101, 238],\n",
       " ['bad', 73, 18],\n",
       " ['sad', 123, 5],\n",
       " ['mad', 11, 4],\n",
       " ['best', 22, 65],\n",
       " ['pretti', 15, 20],\n",
       " ['\\xe2\\x9d\\xa4', 0, 0],\n",
       " [':)', 2, 3691],\n",
       " [':(', 4584, 1],\n",
       " ['\\xf0\\x9f\\x98\\x92', 0, 0],\n",
       " ['\\xf0\\x9f\\x98\\xac', 0, 0],\n",
       " ['\\xf0\\x9f\\x98\\x84', 0, 0],\n",
       " ['\\xf0\\x9f\\x98\\x8d', 0, 0],\n",
       " ['\\xe2\\x99\\x9b', 0, 0],\n",
       " ['song', 27, 22],\n",
       " ['idea', 10, 27],\n",
       " ['power', 6, 7],\n",
       " ['play', 48, 46],\n",
       " ['magnific', 0, 2]]"
      ]
     },
     "execution_count": 24,
     "metadata": {},
     "output_type": "execute_result"
    }
   ],
   "source": [
    "# i selected some words to appear in the report. i assumed that each word is unique (i.e. no duplicates)\n",
    "keys = ['happi', 'merri', 'nice', 'good', 'bad', 'sad', 'mad', 'best', 'pretti',\n",
    "        '❤', ':)', ':(', '😒', '😬', '😄', '😍', '♛',\n",
    "        'song', 'idea', 'power', 'play', 'magnific']\n",
    "# list representing our table of word counts.\n",
    "# each element consist of a sublist with this pattern: [<word>, <positive_count>, <negative_count>]\n",
    "data = []\n",
    "\n",
    "for word in keys:\n",
    "    \n",
    "    #initialize postive and negative counts\n",
    "    pos = 0\n",
    "    neg = 0\n",
    "    if (word,1) in freqs:\n",
    "        pos = freqs[(word,1)]\n",
    "    if (word,0) in freqs:\n",
    "        neg = freqs[(word,0)]\n",
    "    data.append([word,pos,neg])\n",
    "data"
   ]
  },
  {
   "cell_type": "markdown",
   "metadata": {},
   "source": [
    "### Visualizing with scatter plot to inspect the table visually. Instead of plotting the raw counts, i will plot it in the logarithmic scale to take into account the wide discrepancies"
   ]
  },
  {
   "cell_type": "code",
   "execution_count": 25,
   "metadata": {},
   "outputs": [
    {
     "data": {
      "text/plain": [
       "[<matplotlib.lines.Line2D at 0xe1de828>]"
      ]
     },
     "execution_count": 25,
     "metadata": {},
     "output_type": "execute_result"
    },
    {
     "data": {
      "image/png": "[encoded data removed]",
      "text/plain": [
       "<Figure size 720x576 with 1 Axes>"
      ]
     },
     "metadata": {
      "needs_background": "light"
     },
     "output_type": "display_data"
    }
   ],
   "source": [
    "fig,ax = plt.subplots(figsize=(10,8))\n",
    "x = np.log([x[1] + 1 for x in data])\n",
    "y = np.log([y[2] + 1 for y in data])\n",
    "\n",
    "ax.scatter(x,y)\n",
    "plt.xlabel('Logarithm of Positive')\n",
    "plt.ylabel('Logarithm of Negative')\n",
    "\n",
    "# for i in range(0,len(data)):\n",
    "#     ax.annotate(data[i][0],(x[i],y[i]),fontsize=12)\n",
    "ax.plot([0,10],[0,10],color='red')"
   ]
  },
  {
   "cell_type": "markdown",
   "metadata": {},
   "source": [
    "# Extracting Features"
   ]
  },
  {
   "cell_type": "markdown",
   "metadata": {},
   "source": [
    "## Building a simple helper function to extract features from text"
   ]
  },
  {
   "cell_type": "code",
   "execution_count": 26,
   "metadata": {},
   "outputs": [],
   "source": [
    "#function helps in extracting useful features from text in 3 dimensional form \n",
    "def extract_features(p_tweet,freqs):\n",
    "    sum_pos = 0\n",
    "    sum_neg = 0\n",
    "    for word in p_tweet:\n",
    "        pos = freqs.get((word,1),0)\n",
    "        neg = freqs.get((word,0),0)\n",
    "        sum_pos += pos\n",
    "        sum_neg += neg\n",
    "    features = np.array([1,sum_pos,sum_neg]).reshape(1,-1)\n",
    "    return features   "
   ]
  },
  {
   "cell_type": "markdown",
   "metadata": {},
   "source": [
    "# Visualizing the tweets on a two dimensional plane"
   ]
  },
  {
   "cell_type": "code",
   "execution_count": 27,
   "metadata": {},
   "outputs": [],
   "source": [
    "#freq dictionary for all words\n",
    "freqs = build_freqs(tweets,ys)\n",
    "#Iniatializing data for extracted features\n",
    "X = np.zeros((len(tweets),3))\n",
    "for i in range(len(tweets)):\n",
    "    clean_tweet = process_tweet(tweets[i])\n",
    "    X[i,:] = extract_features(clean_tweet,freqs)"
   ]
  },
  {
   "cell_type": "code",
   "execution_count": 28,
   "metadata": {},
   "outputs": [
    {
     "data": {
      "text/html": [
       "<div>\n",
       "<style scoped>\n",
       "    .dataframe tbody tr th:only-of-type {\n",
       "        vertical-align: middle;\n",
       "    }\n",
       "\n",
       "    .dataframe tbody tr th {\n",
       "        vertical-align: top;\n",
       "    }\n",
       "\n",
       "    .dataframe thead th {\n",
       "        text-align: right;\n",
       "    }\n",
       "</style>\n",
       "<table border=\"1\" class=\"dataframe\">\n",
       "  <thead>\n",
       "    <tr style=\"text-align: right;\">\n",
       "      <th></th>\n",
       "      <th>Bias</th>\n",
       "      <th>Positive</th>\n",
       "      <th>Negative</th>\n",
       "      <th>Sentiment</th>\n",
       "    </tr>\n",
       "  </thead>\n",
       "  <tbody>\n",
       "    <tr>\n",
       "      <th>0</th>\n",
       "      <td>1.0</td>\n",
       "      <td>4589.0</td>\n",
       "      <td>2.0</td>\n",
       "      <td>1.0</td>\n",
       "    </tr>\n",
       "    <tr>\n",
       "      <th>1</th>\n",
       "      <td>1.0</td>\n",
       "      <td>6199.0</td>\n",
       "      <td>1601.0</td>\n",
       "      <td>1.0</td>\n",
       "    </tr>\n",
       "    <tr>\n",
       "      <th>2</th>\n",
       "      <td>1.0</td>\n",
       "      <td>5710.0</td>\n",
       "      <td>1294.0</td>\n",
       "      <td>1.0</td>\n",
       "    </tr>\n",
       "    <tr>\n",
       "      <th>3</th>\n",
       "      <td>1.0</td>\n",
       "      <td>9497.0</td>\n",
       "      <td>316.0</td>\n",
       "      <td>1.0</td>\n",
       "    </tr>\n",
       "    <tr>\n",
       "      <th>4</th>\n",
       "      <td>1.0</td>\n",
       "      <td>4859.0</td>\n",
       "      <td>306.0</td>\n",
       "      <td>1.0</td>\n",
       "    </tr>\n",
       "  </tbody>\n",
       "</table>\n",
       "</div>"
      ],
      "text/plain": [
       "   Bias  Positive  Negative  Sentiment\n",
       "0   1.0    4589.0       2.0        1.0\n",
       "1   1.0    6199.0    1601.0        1.0\n",
       "2   1.0    5710.0    1294.0        1.0\n",
       "3   1.0    9497.0     316.0        1.0\n",
       "4   1.0    4859.0     306.0        1.0"
      ]
     },
     "execution_count": 28,
     "metadata": {},
     "output_type": "execute_result"
    }
   ],
   "source": [
    "#saving data as data frame\n",
    "import pandas as pd\n",
    "from os import getcwd\n",
    "data = np.hstack((X,ys.reshape(-1,1)))\n",
    "df = pd.DataFrame(data=data,columns=['Bias','Positive','Negative','Sentiment'])\n",
    "df.head()"
   ]
  },
  {
   "cell_type": "code",
   "execution_count": 29,
   "metadata": {},
   "outputs": [],
   "source": [
    "# df.to_csv(path_or_buf='{}\\processed_data'.format(getcwd()+'\\\\data'),) #save to data directory from current dir"
   ]
  },
  {
   "cell_type": "markdown",
   "metadata": {},
   "source": [
    "### Split Data For Training and Testing"
   ]
  },
  {
   "cell_type": "code",
   "execution_count": 30,
   "metadata": {},
   "outputs": [],
   "source": [
    "# splitting the data into two pieces, one for training and one for testing (validation set) \n",
    "from sklearn.model_selection import train_test_split\n",
    "X_train, X_test, y_train, y_test = train_test_split(df.drop('Sentiment',axis=1), df.Sentiment, test_size=0.2, random_state=42)"
   ]
  },
  {
   "cell_type": "markdown",
   "metadata": {},
   "source": [
    "## Plot the samples in a scatter plot"
   ]
  },
  {
   "cell_type": "code",
   "execution_count": 31,
   "metadata": {
    "scrolled": true
   },
   "outputs": [
    {
     "data": {
      "text/plain": [
       "Text(0,0.5,'Negative Tweets')"
      ]
     },
     "execution_count": 31,
     "metadata": {},
     "output_type": "execute_result"
    },
    {
     "data": {
      "image/png": "[encoded data removed]",
      "text/plain": [
       "<Figure size 576x576 with 1 Axes>"
      ]
     },
     "metadata": {
      "needs_background": "light"
     },
     "output_type": "display_data"
    }
   ],
   "source": [
    "fig,ax = plt.subplots(figsize=(8,8))\n",
    "\n",
    "colors = ['red','blue']\n",
    "\n",
    "ax.scatter(np.log([x + 1 for x in X_train.Positive]),np.log([x + 1 for x in X_train.Negative]),c=[colors[int(k)] for k in y_train],marker='o',s=10)\n",
    "plt.xlabel('Positive Tweets')\n",
    "plt.ylabel('Negative Tweets')"
   ]
  },
  {
   "cell_type": "code",
   "execution_count": 32,
   "metadata": {},
   "outputs": [
    {
     "data": {
      "text/plain": [
       "Text(0,0.5,'Negative Tweets')"
      ]
     },
     "execution_count": 32,
     "metadata": {},
     "output_type": "execute_result"
    },
    {
     "data": {
      "image/png": "[encoded data removed]",
      "text/plain": [
       "<Figure size 576x576 with 1 Axes>"
      ]
     },
     "metadata": {
      "needs_background": "light"
     },
     "output_type": "display_data"
    }
   ],
   "source": [
    "# We can see a clear distinction from the plot above\n",
    "#Also\n",
    "fig,ax = plt.subplots(figsize=(8,8))\n",
    "\n",
    "colors = ['red','blue']\n",
    "\n",
    "ax.scatter(X_train.Positive,X_train.Negative,c=[colors[int(k)] for k in y_train],marker='o',s=10)\n",
    "#  Uncomment the next two lines to Zoom in on graph\n",
    "# ax.set_xlim(0,10000)\n",
    "# ax.set_ylim(0,10000)\n",
    "plt.xlabel('Positive Tweets')\n",
    "plt.ylabel('Negative Tweets')"
   ]
  },
  {
   "cell_type": "markdown",
   "metadata": {},
   "source": [
    "###### From the plot, it is evident that the features that  was chosen to represent tweets as numerical vectors allow an almost perfect separation between positive and negative tweets. So The Models accuracy might be very high!"
   ]
  },
  {
   "cell_type": "markdown",
   "metadata": {},
   "source": [
    "# Logistic Regression Model"
   ]
  },
  {
   "cell_type": "markdown",
   "metadata": {},
   "source": [
    "### Sigmoid Function"
   ]
  },
  {
   "cell_type": "code",
   "execution_count": 33,
   "metadata": {},
   "outputs": [],
   "source": [
    "def sigmoid(z):\n",
    "    '''\n",
    "    Function takes an array as input and return an output between 0 and 1 for each record\n",
    "    '''\n",
    "    \n",
    "    h = 1 /(1 + np.exp(-z))\n",
    "    return h"
   ]
  },
  {
   "cell_type": "code",
   "execution_count": 34,
   "metadata": {},
   "outputs": [
    {
     "data": {
      "text/plain": [
       "array([4.53978687e-05, 1.23394576e-04, 3.35350130e-04, 9.11051194e-04,\n",
       "       2.47262316e-03, 6.69285092e-03, 1.79862100e-02, 4.74258732e-02,\n",
       "       1.19202922e-01, 2.68941421e-01, 5.00000000e-01, 7.31058579e-01,\n",
       "       8.80797078e-01, 9.52574127e-01, 9.82013790e-01, 9.93307149e-01,\n",
       "       9.97527377e-01, 9.99088949e-01, 9.99664650e-01, 9.99876605e-01])"
      ]
     },
     "execution_count": 34,
     "metadata": {},
     "output_type": "execute_result"
    }
   ],
   "source": [
    "# Test the predictions\n",
    "sigmoid(np.arange(-10,10))"
   ]
  },
  {
   "cell_type": "markdown",
   "metadata": {},
   "source": [
    "### To train the lr model,we need to implement a gradient descent function"
   ]
  },
  {
   "cell_type": "markdown",
   "metadata": {},
   "source": [
    "#### Implement gradient descent function"
   ]
  },
  {
   "cell_type": "code",
   "execution_count": 35,
   "metadata": {},
   "outputs": [],
   "source": [
    "def gradient_descent(X,y,theta,alpha,num_iters):\n",
    "    '''\n",
    "    Input:\n",
    "        x: matrix of features which is (m,n+1)\n",
    "        y: corresponding labels of the input matrix x, dimensions (m,1)\n",
    "        theta: weight vector of dimension (n+1,1)\n",
    "        alpha: learning rate\n",
    "        num_iters: number of iterations you want to train your model for\n",
    "    '''\n",
    "    if type(X) == np.ndarray and type(y) == np.ndarray:\n",
    "        X_mat = X\n",
    "        y_vec = y\n",
    "    else:\n",
    "        raise ValueError('Parameter X and Y are not of type numpy.ndarray')\n",
    "    \n",
    "    X_transpose = X_mat.transpose()\n",
    "    y_transpose = y_vec.transpose()\n",
    "    m = len(X)\n",
    "    for i in range(0,num_iters):\n",
    "        #get z, the dot product of x and theta\n",
    "        z = np.dot(X,theta)\n",
    "        \n",
    "        #generate Predictions\n",
    "        h = sigmoid(z)\n",
    "        \n",
    "        #Calculate cost\n",
    "        J_cost = -1 * ((np.dot(y_transpose,np.log(h)) + np.dot((1 - y).transpose(),np.log(1-h)))/m)\n",
    "        \n",
    "        #Update Theta\n",
    "        theta = theta - ((alpha/m) * np.dot(X_transpose,(h-y)))\n",
    "    \n",
    "    return theta,float(J_cost)"
   ]
  },
  {
   "cell_type": "markdown",
   "metadata": {},
   "source": [
    "#### Testing the function"
   ]
  },
  {
   "cell_type": "code",
   "execution_count": 36,
   "metadata": {},
   "outputs": [
    {
     "name": "stdout",
     "output_type": "stream",
     "text": [
      "The cost after training is 0.67.\n",
      "The resulting vector of weights is [4.1e-07, 0.00035658, 7.309e-05]\n"
     ]
    }
   ],
   "source": [
    "np.random.seed(1)\n",
    "# X input is 10 x 3 with ones for the bias terms\n",
    "tmp_X = np.append(np.ones((10, 1)), np.random.rand(10, 2) * 2000, axis=1)\n",
    "# Y Labels are 10 x 1\n",
    "tmp_Y = (np.random.rand(10, 1) > 0.35).astype(float)\n",
    "\n",
    "# Apply gradient descent\n",
    "tmp_theta,tmp_J = gradient_descent(tmp_X, tmp_Y, np.zeros((3, 1)), 1e-8, 700)\n",
    "print(\"The cost after training is {}.\".format(round(tmp_J,ndigits=2)))\n",
    "print(\"The resulting vector of weights is {}\".format([round(t, 8) for t in np.squeeze(tmp_theta)]))"
   ]
  },
  {
   "cell_type": "markdown",
   "metadata": {},
   "source": [
    "### Training The Model"
   ]
  },
  {
   "cell_type": "code",
   "execution_count": null,
   "metadata": {},
   "outputs": [],
   "source": [
    "x = X_train.values\n",
    "y = y_train.values\n",
    "\n",
    "#Apply gradient descent\n",
    "theta,cost = gradient_descent(x,y,np.zeros((3,1)),1e-8,1500)\n",
    "print('The cost after training is {}'.format(round(theta,ndigits=2)))\n",
    "print('The resulting vector of weights is {}'.format([round(t) for t in theta]))"
   ]
  },
  {
   "cell_type": "markdown",
   "metadata": {},
   "source": [
    "### Implement `predict_tweet()` to predict tweet's class"
   ]
  },
  {
   "cell_type": "code",
   "execution_count": null,
   "metadata": {},
   "outputs": [],
   "source": [
    "def predict_tweet(tweet,theta,freqs):\n",
    "    '''\n",
    "    Input:\n",
    "        tweet: tweet to predict\n",
    "        theta:hyperparameter vector or matrix of form (3,1)\n",
    "        freqs:dictionary of all words\n",
    "    Output:\n",
    "        y_pred: tweet's prediction\n",
    "    '''\n",
    "    clean_tweet = process_tweet(tweet)\n",
    "    x = extract_features(clean_tweet,freqs)\n",
    "    \n",
    "    #generate predictions\n",
    "    y_pred = np.dot(x,theta)\n",
    "    \n",
    "    return y_pred"
   ]
  },
  {
   "cell_type": "code",
   "execution_count": null,
   "metadata": {},
   "outputs": [],
   "source": [
    "#test function\n",
    "t_s = ['you  are mean','He is very bad','I love you','The movie ended sadly ;(','he must be depressed']\n",
    "for t in t_s:\n",
    "    print('{tweet} -> {pred}'.format(tweet=t,pred=predict_tweet(t,theta,freqs))"
   ]
  },
  {
   "cell_type": "markdown",
   "metadata": {},
   "source": [
    "### The `test_logistic_model()` function calculates the model accuracy"
   ]
  },
  {
   "cell_type": "code",
   "execution_count": null,
   "metadata": {},
   "outputs": [],
   "source": [
    "def test_logistic_model(test_x,test_y,freqs,theta):\n",
    "    '''\n",
    "    Input:\n",
    "        test_x: Data to generate predicts on\n",
    "        test_y:Actual values\n",
    "        freqs:dictionary of all words\n",
    "        theta: hyperparameter vector or matrix of form (3,1)\n",
    "    Output:\n",
    "        accuracy: This the model's accuracy\n",
    "    '''\n",
    "    \n",
    "    m = len(test_y)\n",
    "    y_hat = []\n",
    "    for tweet in test_x:\n",
    "        #generate z for sigmoid func\n",
    "        z = predict_tweet(tweet,theta,freqs)\n",
    "        #generate models predictions\n",
    "        pred = sigmoid(z)\n",
    "        \n",
    "        \n",
    "        if pred > 0:\n",
    "            y_hat.append(1)\n",
    "        else:\n",
    "            y_hat.append(0)\n",
    "    \n",
    "    accuracy = (np.squeeze(y_hat) == np.squeeze(test_y))/m\n",
    "    \n",
    "    return accuracy"
   ]
  },
  {
   "cell_type": "markdown",
   "metadata": {},
   "source": [
    "### Print Model's Accuracy"
   ]
  },
  {
   "cell_type": "code",
   "execution_count": null,
   "metadata": {},
   "outputs": [],
   "source": [
    "print(\"Logistic Regression Model's Accuracy is {}\".format(test_logistic_model(test_x,test_y,freqs,theta)))"
   ]
  },
  {
   "cell_type": "code",
   "execution_count": null,
   "metadata": {},
   "outputs": [],
   "source": []
  }
 ],
 "metadata": {
  "kernelspec": {
   "display_name": "Python 2",
   "language": "python",
   "name": "python2"
  },
  "language_info": {
   "codemirror_mode": {
    "name": "ipython",
    "version": 2
   },
   "file_extension": ".py",
   "mimetype": "text/x-python",
   "name": "python",
   "nbconvert_exporter": "python",
   "pygments_lexer": "ipython2",
   "version": "2.7.16"
  }
 },
 "nbformat": 4,
 "nbformat_minor": 2
}
