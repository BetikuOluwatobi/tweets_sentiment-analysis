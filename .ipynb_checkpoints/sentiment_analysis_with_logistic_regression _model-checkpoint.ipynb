{
 "cells": [
  {
   "cell_type": "markdown",
   "metadata": {},
   "source": [
    "## Preprocessing\n",
    "preprocessing tweets for sentiment analysis"
   ]
  },
  {
   "cell_type": "code",
   "execution_count": 1,
   "metadata": {},
   "outputs": [],
   "source": [
    "import nltk                                # Python library for NLP\n",
    "from nltk.corpus import twitter_samples    # sample Twitter dataset from NLTK\n",
    "import matplotlib.pyplot as plt            # library for visualization\n",
    "import random                              # pseudo-random number generator\n",
    "import numpy as np\n",
    "import pickle as pk\n",
    "%matplotlib inline"
   ]
  },
  {
   "cell_type": "markdown",
   "metadata": {},
   "source": [
    "#### loading the text fields of the positive and negative tweets by using the module's strings() method "
   ]
  },
  {
   "cell_type": "code",
   "execution_count": 2,
   "metadata": {},
   "outputs": [],
   "source": [
    "# selecting the set of positive and negative tweets\n",
    "all_positive_tweets = twitter_samples.strings('positive_tweets.json')\n",
    "all_negative_tweets = twitter_samples.strings('negative_tweets.json')"
   ]
  },
  {
   "cell_type": "markdown",
   "metadata": {},
   "source": [
    " ### printing a report with the number of positive and negative tweets to know the data structure of the datasets"
   ]
  },
  {
   "cell_type": "code",
   "execution_count": 3,
   "metadata": {},
   "outputs": [
    {
     "name": "stdout",
     "output_type": "stream",
     "text": [
      "Number of positive tweets: 5000\n",
      "Number of positive tweets: 5000\n",
      "\n",
      "\n",
      "The type of all_positive_tweets is: <type 'list'>\n",
      "The type of a tweet entry is: <type 'unicode'>\n"
     ]
    }
   ],
   "source": [
    "print('Number of positive tweets: {}'.format(len(all_positive_tweets)))\n",
    "print('Number of positive tweets: {}\\n'.format(len(all_negative_tweets)))\n",
    "\n",
    "print('\\nThe type of all_positive_tweets is: {}'.format(type(all_positive_tweets)))\n",
    "print('The type of a tweet entry is: {}'.format(type(all_negative_tweets[0])))"
   ]
  },
  {
   "cell_type": "markdown",
   "metadata": {},
   "source": [
    "### A more visually appealing report by using Matplotlib's pyplot library. "
   ]
  },
  {
   "cell_type": "code",
   "execution_count": 4,
   "metadata": {},
   "outputs": [
    {
     "data": {
      "text/plain": [
       "(-1.1, 1.1, -1.1, 1.1)"
      ]
     },
     "execution_count": 4,
     "metadata": {},
     "output_type": "execute_result"
    },
    {
     "data": {
      "image/png": "[encoded data removed]",
      "text/plain": [
       "<Figure size 360x360 with 1 Axes>"
      ]
     },
     "metadata": {},
     "output_type": "display_data"
    }
   ],
   "source": [
    "fig = plt.figure(figsize=(5,5))\n",
    "\n",
    "# labels for the two classes\n",
    "labels = 'Positives', 'Negative'\n",
    "# Sizes for each slide\n",
    "sizes = [len(all_positive_tweets), len(all_negative_tweets)] \n",
    "\n",
    "# Declare pie chart, where the slices will be ordered and plotted counter-clockwise:\n",
    "plt.pie(x=sizes,labels=labels,autopct='%1.1f%%',\n",
    "        shadow=True, startangle=90)\n",
    "plt.axis('equal')"
   ]
  },
  {
   "cell_type": "markdown",
   "metadata": {},
   "source": [
    "### Looking at raw texts"
   ]
  },
  {
   "cell_type": "code",
   "execution_count": 5,
   "metadata": {},
   "outputs": [
    {
     "name": "stdout",
     "output_type": "stream",
     "text": [
      "\u001b[92m@Random_MrDiddy I know he lives in Australia I was talking to my friend cuz it's like 4am for her but thanks anyway :))\n",
      "\u001b[91m3 days without talking with Bae :(\n"
     ]
    }
   ],
   "source": [
    "# prints positive class in greeen\n",
    "print('\\033[92m' + all_positive_tweets[random.randint(0,5000)])\n",
    "\n",
    "# prints negative class in red\n",
    "print('\\033[91m' + all_negative_tweets[random.randint(0,5000)])"
   ]
  },
  {
   "cell_type": "code",
   "execution_count": 6,
   "metadata": {},
   "outputs": [
    {
     "name": "stdout",
     "output_type": "stream",
     "text": [
      "\u001b[95m“@ketchBurning: I hate Japanese call him \"bani\" :( :(”\n",
      "\n",
      "Me too\n"
     ]
    }
   ],
   "source": [
    "print('\\033[95m'+all_negative_tweets[3])"
   ]
  },
  {
   "cell_type": "markdown",
   "metadata": {},
   "source": [
    "## Preprocessing raw text for Sentiment analysis\n",
    "#### steps followed:\n",
    "* Tokenizing the string\n",
    "* Lowercasing\n",
    "* Removing stop words and punctuation\n",
    "* Stemming"
   ]
  },
  {
   "cell_type": "code",
   "execution_count": 7,
   "metadata": {},
   "outputs": [
    {
     "name": "stdout",
     "output_type": "stream",
     "text": [
      "\u001b[94mMy beautiful sunflowers on a sunny Friday morning off :) #sunflowers #favourites #happy #Friday off… https://t.co/3tfYom0N1i\n"
     ]
    }
   ],
   "source": [
    "# Our selected sample is Complex enough to exemplify each step\n",
    "tweet = all_positive_tweets[2277]\n",
    "print('\\033[94m'+tweet)"
   ]
  },
  {
   "cell_type": "code",
   "execution_count": 8,
   "metadata": {},
   "outputs": [],
   "source": [
    "#importing libraries for text preprocessing\n",
    "from nltk.corpus import stopwords\n",
    "from nltk.stem import PorterStemmer\n",
    "from nltk.tokenize import TweetTokenizer"
   ]
  },
  {
   "cell_type": "code",
   "execution_count": 9,
   "metadata": {},
   "outputs": [],
   "source": [
    "import re\n",
    "import string"
   ]
  },
  {
   "cell_type": "markdown",
   "metadata": {},
   "source": [
    "### Remove hyperlinks,  Twitter marks and styles\n",
    "\n",
    "Since the dataset is a Twitter dataset, i'd like to remove some substrings commonly used on the platform like the hashtag, retweet marks, and hyperlinks. i'll be using the [re](https://docs.python.org/3/library/re.html) library to perform regular expression operations on our tweet. I defined the search pattern and use the `sub()` method to remove matches by substituting with an empty character (i.e. `''`)"
   ]
  },
  {
   "cell_type": "code",
   "execution_count": 10,
   "metadata": {},
   "outputs": [
    {
     "name": "stdout",
     "output_type": "stream",
     "text": [
      "\u001b[92mMy beautiful sunflowers on a sunny Friday morning off :) #sunflowers #favourites #happy #Friday off… https://t.co/3tfYom0N1i\n",
      "\u001b[94m\n",
      "My beautiful sunflowers on a sunny Friday morning off :) sunflowers favourites happy Friday off… \n"
     ]
    }
   ],
   "source": [
    "print('\\033[92m' + tweet)\n",
    "print('\\033[94m')\n",
    "\n",
    "# removing old style retweet text \"RT\"\n",
    "tweet2 = re.sub(r'^RT[\\s]+', '', tweet)\n",
    "\n",
    "# removing hyperlinks in between and at the end of tweet\n",
    "tweet2 = re.sub(r'http\\S+', '', tweet2)\n",
    "\n",
    "# removing hashtags\n",
    "# only removing the hash # sign from the word\n",
    "tweet2 = re.sub(r'#', '', tweet2)\n",
    "\n",
    "print(tweet2)"
   ]
  },
  {
   "cell_type": "markdown",
   "metadata": {},
   "source": [
    "### Tokenizing the string"
   ]
  },
  {
   "cell_type": "code",
   "execution_count": 11,
   "metadata": {},
   "outputs": [
    {
     "name": "stdout",
     "output_type": "stream",
     "text": [
      " \n",
      "\u001b[92mMy beautiful sunflowers on a sunny Friday morning off :) sunflowers favourites happy Friday off… \n",
      "\u001b[94m\n",
      " \n",
      "Tokenized string:\n",
      "[u'my', u'beautiful', u'sunflowers', u'on', u'a', u'sunny', u'friday', u'morning', u'off', u':)', u'sunflowers', u'favourites', u'happy', u'friday', u'off', u'\\u2026']\n"
     ]
    }
   ],
   "source": [
    "print(' ')\n",
    "print('\\033[92m' + tweet2)\n",
    "print('\\033[94m')\n",
    "\n",
    "# instantiate tokenizer class\n",
    "tokenizer = TweetTokenizer(reduce_len=True,preserve_case=False,strip_handles=True)\n",
    "#Tokenize tweet\n",
    "tweet_tokens = tokenizer.tokenize(tweet2)\n",
    "print(' ')\n",
    "\n",
    "print('Tokenized string:')\n",
    "print(tweet_tokens)"
   ]
  },
  {
   "cell_type": "markdown",
   "metadata": {},
   "source": [
    "### Removing stop words and punctuations"
   ]
  },
  {
   "cell_type": "code",
   "execution_count": 12,
   "metadata": {},
   "outputs": [],
   "source": [
    "#Isntantiate the stopwords list\n",
    "stopwords_english = stopwords.words('english')"
   ]
  },
  {
   "cell_type": "code",
   "execution_count": 13,
   "metadata": {},
   "outputs": [
    {
     "name": "stdout",
     "output_type": "stream",
     "text": [
      "Stop words\n",
      "\n",
      "[u'i', u'me', u'my', u'myself', u'we', u'our', u'ours', u'ourselves', u'you', u\"you're\", u\"you've\", u\"you'll\", u\"you'd\", u'your', u'yours', u'yourself', u'yourselves', u'he', u'him', u'his', u'himself', u'she', u\"she's\", u'her', u'hers', u'herself', u'it', u\"it's\", u'its', u'itself', u'they', u'them', u'their', u'theirs', u'themselves', u'what', u'which', u'who', u'whom', u'this', u'that', u\"that'll\", u'these', u'those', u'am', u'is', u'are', u'was', u'were', u'be', u'been', u'being', u'have', u'has', u'had', u'having', u'do', u'does', u'did', u'doing', u'a', u'an', u'the', u'and', u'but', u'if', u'or', u'because', u'as', u'until', u'while', u'of', u'at', u'by', u'for', u'with', u'about', u'against', u'between', u'into', u'through', u'during', u'before', u'after', u'above', u'below', u'to', u'from', u'up', u'down', u'in', u'out', u'on', u'off', u'over', u'under', u'again', u'further', u'then', u'once', u'here', u'there', u'when', u'where', u'why', u'how', u'all', u'any', u'both', u'each', u'few', u'more', u'most', u'other', u'some', u'such', u'no', u'nor', u'not', u'only', u'own', u'same', u'so', u'than', u'too', u'very', u's', u't', u'can', u'will', u'just', u'don', u\"don't\", u'should', u\"should've\", u'now', u'd', u'll', u'm', u'o', u're', u've', u'y', u'ain', u'aren', u\"aren't\", u'couldn', u\"couldn't\", u'didn', u\"didn't\", u'doesn', u\"doesn't\", u'hadn', u\"hadn't\", u'hasn', u\"hasn't\", u'haven', u\"haven't\", u'isn', u\"isn't\", u'ma', u'mightn', u\"mightn't\", u'mustn', u\"mustn't\", u'needn', u\"needn't\", u'shan', u\"shan't\", u'shouldn', u\"shouldn't\", u'wasn', u\"wasn't\", u'weren', u\"weren't\", u'won', u\"won't\", u'wouldn', u\"wouldn't\"]\n"
     ]
    }
   ],
   "source": [
    "print('Stop words\\n')\n",
    "print(stopwords_english)"
   ]
  },
  {
   "cell_type": "code",
   "execution_count": 14,
   "metadata": {},
   "outputs": [
    {
     "name": "stdout",
     "output_type": "stream",
     "text": [
      "\n",
      "Punctuation\n",
      "\n",
      "!\"#$%&'()*+,-./:;<=>?@[\\]^_`{|}~\n"
     ]
    }
   ],
   "source": [
    "print('\\nPunctuation\\n')\n",
    "print(string.punctuation)"
   ]
  },
  {
   "cell_type": "markdown",
   "metadata": {},
   "source": [
    "#### Certain groupings like ':)' and '...' will be retained because they are used to express emotions in tweets. In other contexts however,this might need to be removed."
   ]
  },
  {
   "cell_type": "code",
   "execution_count": 15,
   "metadata": {},
   "outputs": [
    {
     "name": "stdout",
     "output_type": "stream",
     "text": [
      "!\"#$%&'*+,-/;<=>?@[\\]^_`{|}~\n"
     ]
    }
   ],
   "source": [
    "puncs = ''\n",
    "for punc in string.punctuation:\n",
    "    if punc not in '().:':\n",
    "        puncs += punc\n",
    "print(puncs)"
   ]
  },
  {
   "cell_type": "code",
   "execution_count": 16,
   "metadata": {},
   "outputs": [
    {
     "name": "stdout",
     "output_type": "stream",
     "text": [
      "\n",
      "\u001b[92m\n",
      "[u'my', u'beautiful', u'sunflowers', u'on', u'a', u'sunny', u'friday', u'morning', u'off', u':)', u'sunflowers', u'favourites', u'happy', u'friday', u'off', u'\\u2026']\n",
      "\u001b[94m\n",
      "removed stop words and punctuation:\n",
      "[u'beautiful', u'sunflowers', u'sunny', u'friday', u'morning', u':)', u'sunflowers', u'favourites', u'happy', u'friday', u'\\u2026']\n"
     ]
    }
   ],
   "source": [
    "print('')\n",
    "print('\\033[92m')\n",
    "print(tweet_tokens)\n",
    "print('\\033[94m')\n",
    "\n",
    "tweets_clean = []\n",
    "\n",
    "for word in tweet_tokens: # Go through every word in your tokens list\n",
    "    if (word not in stopwords_english and  # remove stopwords\n",
    "        word not in string.punctuation):  # remove punctuation\n",
    "        tweets_clean.append(word)\n",
    "\n",
    "print('removed stop words and punctuation:')\n",
    "print(tweets_clean)"
   ]
  },
  {
   "cell_type": "markdown",
   "metadata": {},
   "source": [
    "##### We can see that ' :) ' context is retained"
   ]
  },
  {
   "cell_type": "markdown",
   "metadata": {},
   "source": [
    "### Stemming\n",
    "Stemming, process of converting a word to its most general form, or stem. This helps in reducing the size of our vocabulary"
   ]
  },
  {
   "cell_type": "code",
   "execution_count": 17,
   "metadata": {},
   "outputs": [
    {
     "name": "stdout",
     "output_type": "stream",
     "text": [
      "\n",
      "\u001b[92m\n",
      "[u'beautiful', u'sunflowers', u'sunny', u'friday', u'morning', u':)', u'sunflowers', u'favourites', u'happy', u'friday', u'\\u2026']\n",
      "\u001b[93m\n",
      "Stem words:\n",
      "[u'beauti', u'sunflow', u'sunni', u'friday', u'morn', u':)', u'sunflow', u'favourit', u'happi', u'friday', u'\\u2026']\n"
     ]
    }
   ],
   "source": [
    "print('')\n",
    "print('\\033[92m')\n",
    "print(tweets_clean)\n",
    "print('\\033[93m')\n",
    "\n",
    "#Instantiate Stemmer\n",
    "stemmer = PorterStemmer()\n",
    "tweets_stem = []\n",
    "\n",
    "#Convert words to base form\n",
    "for word in tweets_clean:\n",
    "    stem_word = stemmer.stem(word)\n",
    "    tweets_stem.append(stem_word)\n",
    "\n",
    "print('Stem words:')\n",
    "print(tweets_stem)"
   ]
  },
  {
   "cell_type": "code",
   "execution_count": 18,
   "metadata": {},
   "outputs": [
    {
     "name": "stdout",
     "output_type": "stream",
     "text": [
      "\u001b[92m\n",
      "beauti sunflow sunni friday morn :) sunflow favourit happi friday …\n"
     ]
    }
   ],
   "source": [
    "print('\\033[92m')\n",
    "#stemmed tweet\n",
    "print(' '.join(tweets_stem))"
   ]
  },
  {
   "cell_type": "markdown",
   "metadata": {},
   "source": [
    "###  Defining all steps in a function called process_tweet()"
   ]
  },
  {
   "cell_type": "code",
   "execution_count": 19,
   "metadata": {},
   "outputs": [],
   "source": [
    "def process_tweet(tweets):\n",
    "    \"\"\"\n",
    "    This function takes a tweet and returns the processed form of the tweet.\n",
    "    Input:\n",
    "        Tweet String\n",
    "    Output:\n",
    "        clean_tweet\n",
    "    \"\"\"\n",
    "    raw_tweet = tweets\n",
    "    #removing hyperlinks,hash Tags...\n",
    "    \n",
    "    # removing old style retweet text \"RT\"\n",
    "    tweet = re.sub(r'^RT[\\s]+', '',raw_tweet)\n",
    "    # removing hyperlinks\n",
    "    tweet = re.sub(r'http\\S+', '', tweet)\n",
    "    # only removing the hash # sign from the word\n",
    "    tweet2 = re.sub(r'#', '', tweet)\n",
    "    #Tokenize tweet\n",
    "    tokenizer = TweetTokenizer(reduce_len=True,strip_handles=True,preserve_case=False)\n",
    "    #fit on tweet\n",
    "    tokenized_tweet = tokenizer.tokenize(tweet2)\n",
    "    #removing stopwords and punctuation\n",
    "    punc = [punc for punc in string.punctuation if punc not in '().:']\n",
    "    stopwords_english = stopwords.words('english')\n",
    "    stemmer = PorterStemmer()\n",
    "    clean_tweets = []\n",
    "    for word in tokenized_tweet:\n",
    "        #removes stopwords and punctuations\n",
    "        if(word not in stopwords_english and word not in punc):\n",
    "            #converts words to base root:\n",
    "            stem_word = stemmer.stem(word)\n",
    "            clean_tweets.append(stem_word)\n",
    "    return clean_tweets"
   ]
  },
  {
   "cell_type": "markdown",
   "metadata": {},
   "source": [
    "#### Testing function"
   ]
  },
  {
   "cell_type": "code",
   "execution_count": 20,
   "metadata": {},
   "outputs": [
    {
     "name": "stdout",
     "output_type": "stream",
     "text": [
      "\u001b[94mEverything in the kids section of IKEA is so cute. Shame I'm nearly 19 in 2 months :(\n",
      "\u001b[92meveryth kid section ikea cute . shame i'm nearli 19 2 month :(\n"
     ]
    }
   ],
   "source": [
    "print('\\033[94m'+all_negative_tweets[1])\n",
    "\n",
    "cleaned_tweet = process_tweet(all_negative_tweets[1])\n",
    "\n",
    "print('\\033[92m'+' '.join(cleaned_tweet))"
   ]
  },
  {
   "cell_type": "markdown",
   "metadata": {},
   "source": [
    "### We can see that the above clean_tweet has all the neccesary words needed to classify the tweet as negative"
   ]
  },
  {
   "cell_type": "markdown",
   "metadata": {},
   "source": [
    "# Building and Visualizing word frequencies for each class"
   ]
  },
  {
   "cell_type": "markdown",
   "metadata": {},
   "source": [
    "### lets build the `build_freqs()` helper function"
   ]
  },
  {
   "cell_type": "code",
   "execution_count": 106,
   "metadata": {},
   "outputs": [],
   "source": [
    "#Adding all tweets up\n",
    "tweets = all_positive_tweets + all_negative_tweets\n",
    "ys = np.append(np.ones(len(all_positive_tweets)), np.zeros(len(all_negative_tweets)))"
   ]
  },
  {
   "cell_type": "code",
   "execution_count": 107,
   "metadata": {},
   "outputs": [],
   "source": [
    "def build_freqs(tweets,ys):\n",
    "    ''' \n",
    "     Build frequencies.\n",
    "    Input:\n",
    "        tweets: a list of tweets\n",
    "        ys: an m x 1 array with the sentiment label of each tweet\n",
    "            (either 0 or 1)\n",
    "    Output:\n",
    "        freqs: a dictionary mapping each (word, sentiment) pair to its\n",
    "        frequency\n",
    "    '''\n",
    "    yslist = np.squeeze(ys).tolist()\n",
    "    freqs = {}\n",
    "    for y, tweet in zip(yslist,tweets):\n",
    "        clean_tweet = process_tweet(tweet)\n",
    "        for word in clean_tweet:\n",
    "            pair = (word,y)\n",
    "            freqs[pair] = freqs.get(pair,0) + 1\n",
    "    return freqs"
   ]
  },
  {
   "cell_type": "code",
   "execution_count": 108,
   "metadata": {},
   "outputs": [],
   "source": [
    "# word frequency dictionary\n",
    "freqs = build_freqs(tweets, ys)"
   ]
  },
  {
   "cell_type": "markdown",
   "metadata": {},
   "source": [
    "### visualizing the output to gain better insights."
   ]
  },
  {
   "cell_type": "markdown",
   "metadata": {},
   "source": [
    "## Table of word counts"
   ]
  },
  {
   "cell_type": "code",
   "execution_count": 109,
   "metadata": {},
   "outputs": [
    {
     "data": {
      "text/plain": [
       "[['happi', 212, 25],\n",
       " ['merri', 1, 0],\n",
       " ['nice', 99, 19],\n",
       " ['good', 238, 101],\n",
       " ['bad', 18, 73],\n",
       " ['sad', 5, 123],\n",
       " ['mad', 4, 11],\n",
       " ['best', 65, 22],\n",
       " ['pretti', 20, 15],\n",
       " ['\\xe2\\x9d\\xa4', 0, 0],\n",
       " [':)', 3691, 2],\n",
       " [':(', 1, 4584],\n",
       " ['\\xf0\\x9f\\x98\\x92', 0, 0],\n",
       " ['\\xf0\\x9f\\x98\\xac', 0, 0],\n",
       " ['\\xf0\\x9f\\x98\\x84', 0, 0],\n",
       " ['\\xf0\\x9f\\x98\\x8d', 0, 0],\n",
       " ['\\xe2\\x99\\x9b', 0, 0],\n",
       " ['song', 22, 27],\n",
       " ['idea', 27, 10],\n",
       " ['power', 7, 6],\n",
       " ['play', 46, 48],\n",
       " ['magnific', 2, 0]]"
      ]
     },
     "execution_count": 109,
     "metadata": {},
     "output_type": "execute_result"
    }
   ],
   "source": [
    "# i selected some words to appear in the report. i assumed that each word is unique (i.e. no duplicates)\n",
    "keys = ['happi', 'merri', 'nice', 'good', 'bad', 'sad', 'mad', 'best', 'pretti',\n",
    "        '❤', ':)', ':(', '😒', '😬', '😄', '😍', '♛',\n",
    "        'song', 'idea', 'power', 'play', 'magnific']\n",
    "# list representing our table of word counts.\n",
    "# each element consist of a sublist with this pattern: [<word>, <positive_count>, <negative_count>]\n",
    "data = []\n",
    "\n",
    "for word in keys:\n",
    "    \n",
    "    #initialize postive and negative counts\n",
    "    pos = 0\n",
    "    neg = 0\n",
    "    if (word,1) in freqs:\n",
    "        pos = freqs[(word,1)]\n",
    "    if (word,0) in freqs:\n",
    "        neg = freqs[(word,0)]\n",
    "    data.append([word,pos,neg])\n",
    "data"
   ]
  },
  {
   "cell_type": "markdown",
   "metadata": {},
   "source": [
    "### Visualizing with scatter plot to inspect the table visually. Instead of plotting the raw counts, i will plot it in the logarithmic scale to take into account the wide discrepancies"
   ]
  },
  {
   "cell_type": "code",
   "execution_count": 110,
   "metadata": {},
   "outputs": [
    {
     "data": {
      "text/plain": [
       "[<matplotlib.lines.Line2D at 0x10f531d0>]"
      ]
     },
     "execution_count": 110,
     "metadata": {},
     "output_type": "execute_result"
    },
    {
     "data": {
      "image/png": "[encoded data removed]",
      "text/plain": [
       "<Figure size 720x576 with 1 Axes>"
      ]
     },
     "metadata": {
      "needs_background": "light"
     },
     "output_type": "display_data"
    }
   ],
   "source": [
    "fig,ax = plt.subplots(figsize=(10,8))\n",
    "x = np.log([x[1] + 1 for x in data])\n",
    "y = np.log([y[2] + 1 for y in data])\n",
    "\n",
    "ax.scatter(x,y)\n",
    "plt.xlabel('Logarithm of Positive')\n",
    "plt.ylabel('Logarithm of Negative')\n",
    "\n",
    "# for i in range(0,len(data)):\n",
    "#     ax.annotate(data[i][0],(x[i],y[i]),fontsize=12)\n",
    "ax.plot([0,10],[0,10],color='red')"
   ]
  },
  {
   "cell_type": "markdown",
   "metadata": {},
   "source": [
    "# Extracting Features"
   ]
  },
  {
   "cell_type": "markdown",
   "metadata": {},
   "source": [
    "## Building a simple helper function to extract features from text"
   ]
  },
  {
   "cell_type": "code",
   "execution_count": 181,
   "metadata": {},
   "outputs": [],
   "source": [
    "#function helps in extracting useful features from text in 3 dimensional form \n",
    "def extract_features(p_tweet,freqs):\n",
    "    sum_pos = 0\n",
    "    sum_neg = 0\n",
    "    for word in p_tweet:\n",
    "        pos = freqs.get((word,1),0)\n",
    "        neg = freqs.get((word,0),0)\n",
    "        sum_pos += pos\n",
    "        sum_neg += neg\n",
    "    features = np.array([1,sum_pos,sum_neg])\n",
    "    return features   "
   ]
  },
  {
   "cell_type": "markdown",
   "metadata": {},
   "source": [
    "# Visualizing the tweets on a two dimensional plane"
   ]
  },
  {
   "cell_type": "code",
   "execution_count": 112,
   "metadata": {},
   "outputs": [],
   "source": [
    "#freq dictionary for all words\n",
    "freqs = build_freqs(tweets,ys)\n",
    "#Iniatializing data for extracted features\n",
    "X = np.zeros((len(tweets),3))\n",
    "for i in range(len(tweets)):\n",
    "    clean_tweet = process_tweet(tweets[i])\n",
    "    X[i,:] = extract_features(clean_tweet,freqs)"
   ]
  },
  {
   "cell_type": "code",
   "execution_count": 113,
   "metadata": {},
   "outputs": [
    {
     "data": {
      "text/html": [
       "<div>\n",
       "<style scoped>\n",
       "    .dataframe tbody tr th:only-of-type {\n",
       "        vertical-align: middle;\n",
       "    }\n",
       "\n",
       "    .dataframe tbody tr th {\n",
       "        vertical-align: top;\n",
       "    }\n",
       "\n",
       "    .dataframe thead th {\n",
       "        text-align: right;\n",
       "    }\n",
       "</style>\n",
       "<table border=\"1\" class=\"dataframe\">\n",
       "  <thead>\n",
       "    <tr style=\"text-align: right;\">\n",
       "      <th></th>\n",
       "      <th>Bias</th>\n",
       "      <th>Positive</th>\n",
       "      <th>Negative</th>\n",
       "      <th>Sentiment</th>\n",
       "    </tr>\n",
       "  </thead>\n",
       "  <tbody>\n",
       "    <tr>\n",
       "      <th>0</th>\n",
       "      <td>1.0</td>\n",
       "      <td>3887.0</td>\n",
       "      <td>72.0</td>\n",
       "      <td>1.0</td>\n",
       "    </tr>\n",
       "    <tr>\n",
       "      <th>1</th>\n",
       "      <td>1.0</td>\n",
       "      <td>4613.0</td>\n",
       "      <td>518.0</td>\n",
       "      <td>1.0</td>\n",
       "    </tr>\n",
       "    <tr>\n",
       "      <th>2</th>\n",
       "      <td>1.0</td>\n",
       "      <td>5156.0</td>\n",
       "      <td>1253.0</td>\n",
       "      <td>1.0</td>\n",
       "    </tr>\n",
       "    <tr>\n",
       "      <th>3</th>\n",
       "      <td>1.0</td>\n",
       "      <td>3712.0</td>\n",
       "      <td>4.0</td>\n",
       "      <td>1.0</td>\n",
       "    </tr>\n",
       "    <tr>\n",
       "      <th>4</th>\n",
       "      <td>1.0</td>\n",
       "      <td>4038.0</td>\n",
       "      <td>281.0</td>\n",
       "      <td>1.0</td>\n",
       "    </tr>\n",
       "  </tbody>\n",
       "</table>\n",
       "</div>"
      ],
      "text/plain": [
       "   Bias  Positive  Negative  Sentiment\n",
       "0   1.0    3887.0      72.0        1.0\n",
       "1   1.0    4613.0     518.0        1.0\n",
       "2   1.0    5156.0    1253.0        1.0\n",
       "3   1.0    3712.0       4.0        1.0\n",
       "4   1.0    4038.0     281.0        1.0"
      ]
     },
     "execution_count": 113,
     "metadata": {},
     "output_type": "execute_result"
    }
   ],
   "source": [
    "#saving data as data frame\n",
    "import pandas as pd\n",
    "from os import getcwd\n",
    "data = np.hstack((X,ys.reshape(-1,1)))\n",
    "df = pd.DataFrame(data=data,columns=['Bias','Positive','Negative','Sentiment'])\n",
    "df.head()"
   ]
  },
  {
   "cell_type": "code",
   "execution_count": 114,
   "metadata": {},
   "outputs": [],
   "source": [
    "df.to_csv(path_or_buf='{}\\processed_data'.format(getcwd()+'\\\\data'),) #save to data directory from current dir"
   ]
  },
  {
   "cell_type": "markdown",
   "metadata": {},
   "source": [
    "### Split Data For Training and Testing"
   ]
  },
  {
   "cell_type": "code",
   "execution_count": 115,
   "metadata": {},
   "outputs": [],
   "source": [
    "# splitting the data into two pieces, one for training and one for testing (validation set) \n",
    "from sklearn.model_selection import train_test_split\n",
    "X_train, X_test, y_train, y_test = train_test_split(df.drop('Sentiment',axis=1), df.Sentiment, test_size=0.2, random_state=42)"
   ]
  },
  {
   "cell_type": "markdown",
   "metadata": {},
   "source": [
    "## Plot the samples in a scatter plot"
   ]
  },
  {
   "cell_type": "code",
   "execution_count": 116,
   "metadata": {
    "scrolled": true
   },
   "outputs": [
    {
     "data": {
      "text/plain": [
       "Text(0,0.5,'Negative Tweets')"
      ]
     },
     "execution_count": 116,
     "metadata": {},
     "output_type": "execute_result"
    },
    {
     "data": {
      "image/png": "[encoded data removed]",
      "text/plain": [
       "<Figure size 576x576 with 1 Axes>"
      ]
     },
     "metadata": {
      "needs_background": "light"
     },
     "output_type": "display_data"
    }
   ],
   "source": [
    "fig,ax = plt.subplots(figsize=(8,8))\n",
    "\n",
    "colors = ['red','blue']\n",
    "\n",
    "ax.scatter(np.log([x + 1 for x in X_train.Positive]),np.log([x + 1 for x in X_train.Negative]),c=[colors[int(k)] for k in y_train],marker='o',s=10)\n",
    "plt.xlabel('Positive Tweets')\n",
    "plt.ylabel('Negative Tweets')"
   ]
  },
  {
   "cell_type": "code",
   "execution_count": 117,
   "metadata": {},
   "outputs": [
    {
     "data": {
      "text/plain": [
       "Text(0,0.5,'Negative Tweets')"
      ]
     },
     "execution_count": 117,
     "metadata": {},
     "output_type": "execute_result"
    },
    {
     "data": {
      "image/png": "[encoded data removed]",
      "text/plain": [
       "<Figure size 576x576 with 1 Axes>"
      ]
     },
     "metadata": {
      "needs_background": "light"
     },
     "output_type": "display_data"
    }
   ],
   "source": [
    "# We can see a clear distinction from the plot above\n",
    "#Also\n",
    "fig,ax = plt.subplots(figsize=(8,8))\n",
    "\n",
    "colors = ['red','blue']\n",
    "\n",
    "ax.scatter(X_train.Positive,X_train.Negative,c=[colors[int(k)] for k in y_train],marker='o',s=10)\n",
    "#  Uncomment the next two lines to Zoom in on graph\n",
    "# ax.set_xlim(0,10000)\n",
    "# ax.set_ylim(0,10000)\n",
    "plt.xlabel('Positive Tweets')\n",
    "plt.ylabel('Negative Tweets')"
   ]
  },
  {
   "cell_type": "markdown",
   "metadata": {},
   "source": [
    "###### From the plot, it is evident that the features that  was chosen to represent tweets as numerical vectors allow an almost perfect separation between positive and negative tweets. So The Models accuracy might be very high!"
   ]
  },
  {
   "cell_type": "markdown",
   "metadata": {},
   "source": [
    "# Logistic Regression Model"
   ]
  },
  {
   "cell_type": "markdown",
   "metadata": {},
   "source": [
    "### Sigmoid Function"
   ]
  },
  {
   "cell_type": "code",
   "execution_count": 118,
   "metadata": {},
   "outputs": [],
   "source": [
    "def sigmoid(z):\n",
    "    '''\n",
    "    Function takes an array as input and return an output between 0 and 1 for each record\n",
    "    '''\n",
    "    \n",
    "    h = 1 /(1 + np.exp(-z))\n",
    "    return h"
   ]
  },
  {
   "cell_type": "markdown",
   "metadata": {},
   "source": [
    "### To train the lr model,we need to implement a gradient descent function"
   ]
  },
  {
   "cell_type": "markdown",
   "metadata": {},
   "source": [
    "#### Implement gradient descent function"
   ]
  },
  {
   "cell_type": "code",
   "execution_count": 219,
   "metadata": {},
   "outputs": [],
   "source": [
    "def gradient_descent(x,y,theta,alpha,num_iters):\n",
    "    '''\n",
    "    Input:\n",
    "        x: matrix of features which is (m,n+1)\n",
    "        y: corresponding labels of the input matrix x, dimensions (m,1)\n",
    "        theta: weight vector of dimension (n+1,1)\n",
    "        alpha: learning rate\n",
    "        num_iters: number of iterations you want to train your model for\n",
    "    '''\n",
    "    \n",
    "    m = len(y)\n",
    "    \n",
    "    for i in range(0, num_iters):\n",
    "        \n",
    "        # get z, the dot product of x and theta\n",
    "        z = np.dot(x,theta)\n",
    "        \n",
    "        # get the sigmoid of z\n",
    "        h = sigmoid(z)\n",
    "        # calculate the cost function\n",
    "        J = -1 * ((np.dot(y.T,np.log(h)) + np.dot((1-y).T,np.log(1-h)))/m)\n",
    "\n",
    "        # update the weights theta\n",
    "        theta = theta - (alpha * (np.dot(x.T,(h-y)))/m)\n",
    "        \n",
    "    J = float(J)\n",
    "    return theta,float(J)"
   ]
  },
  {
   "cell_type": "markdown",
   "metadata": {},
   "source": [
    "#### Testing the function"
   ]
  },
  {
   "cell_type": "code",
   "execution_count": 220,
   "metadata": {},
   "outputs": [
    {
     "name": "stdout",
     "output_type": "stream",
     "text": [
      "The cost after training is 0.67.\n",
      "The resulting vector of weights is [4.1e-07, 0.00035658, 7.309e-05]\n"
     ]
    }
   ],
   "source": [
    "np.random.seed(1)\n",
    "# X input is 10 x 3 with ones for the bias terms\n",
    "tmp_X = np.append(np.ones((10, 1)), np.random.rand(10, 2) * 2000, axis=1)\n",
    "# Y Labels are 10 x 1\n",
    "tmp_Y = (np.random.rand(10, 1) > 0.35).astype(float)\n",
    "\n",
    "# Apply gradient descent\n",
    "tmp_theta,tmp_J = gradient_descent(tmp_X, tmp_Y, np.zeros((3, 1)), 1e-8, 700)\n",
    "print(\"The cost after training is {}.\".format(round(tmp_J,ndigits=2)))\n",
    "print(\"The resulting vector of weights is {}\".format([round(t, 8) for t in np.squeeze(tmp_theta)]))"
   ]
  },
  {
   "cell_type": "markdown",
   "metadata": {},
   "source": [
    "### Training The Model"
   ]
  },
  {
   "cell_type": "code",
   "execution_count": 205,
   "metadata": {},
   "outputs": [],
   "source": [
    "#Using Sklearn LR Model\n",
    "from sklearn.linear_model import LogisticRegression\n",
    "from sklearn.metrics import confusion_matrix,classification_report,accuracy_score,mean_squared_log_error"
   ]
  },
  {
   "cell_type": "code",
   "execution_count": 206,
   "metadata": {},
   "outputs": [],
   "source": [
    "model = LogisticRegression(max_iter=1500,solver='liblinear',multi_class='ovr')"
   ]
  },
  {
   "cell_type": "code",
   "execution_count": 207,
   "metadata": {},
   "outputs": [
    {
     "data": {
      "text/plain": [
       "LogisticRegression(C=1.0, class_weight=None, dual=False, fit_intercept=True,\n",
       "          intercept_scaling=1, max_iter=1500, multi_class='ovr',\n",
       "          n_jobs=None, penalty='l2', random_state=None, solver='liblinear',\n",
       "          tol=0.0001, verbose=0, warm_start=False)"
      ]
     },
     "execution_count": 207,
     "metadata": {},
     "output_type": "execute_result"
    }
   ],
   "source": [
    "#Fit model\n",
    "model.fit(X_train,y_train)"
   ]
  },
  {
   "cell_type": "code",
   "execution_count": 208,
   "metadata": {},
   "outputs": [],
   "source": [
    "theta = model.coef_[0]"
   ]
  },
  {
   "cell_type": "code",
   "execution_count": 209,
   "metadata": {},
   "outputs": [
    {
     "name": "stdout",
     "output_type": "stream",
     "text": [
      "Models Score On Train Data: 0.996125\n",
      "Models Error On Train Data: 0.043148064023\n",
      "\n",
      "Models Score On Test Data: 0.9975\n",
      "Models Error On Test Data: 0.034657359028\n"
     ]
    }
   ],
   "source": [
    "#Models Evaluation\n",
    "print('Models Score On Train Data: {}\\nModels Error On Train Data: {}\\n'.format(model.score(X_train,y_train),np.sqrt(mean_squared_log_error(model.predict(X_train),y_train))))\n",
    "print('Models Score On Test Data: {}\\nModels Error On Test Data: {}'.format(model.score(X_test,y_test),np.sqrt(mean_squared_log_error(model.predict(X_test),y_test))))"
   ]
  },
  {
   "cell_type": "markdown",
   "metadata": {},
   "source": [
    "## Hand Coding the Algorithm"
   ]
  },
  {
   "cell_type": "code",
   "execution_count": 210,
   "metadata": {},
   "outputs": [],
   "source": [
    "train_x,test_x,train_y, test_y = train_test_split(tweets, ys, test_size=0.2, random_state=42)\n",
    "m = len(train_x)\n",
    "x = np.zeros((m,3))\n",
    "y = train_y.reshape(-1,1)\n",
    "for i in range(m):\n",
    "    clean_tweet = process_tweet(train_x[i])\n",
    "    x[i,:] = extract_features(clean_tweet,freqs)"
   ]
  },
  {
   "cell_type": "code",
   "execution_count": 228,
   "metadata": {},
   "outputs": [
    {
     "name": "stdout",
     "output_type": "stream",
     "text": [
      "The cost after training is 0.17\n",
      "The resulting vector of weights is [array([5.8972844e-08]), array([0.00055976]), array([-0.00053817])]\n"
     ]
    }
   ],
   "source": [
    "#Apply gradient descent\n",
    "theta,cost = gradient_descent(x=x,y=y,theta=np.zeros((3,1)),alpha=1e-9,num_iters=1500)\n",
    "print('The cost after training is {}'.format(round(cost,ndigits=2)))\n",
    "print('The resulting vector of weights is {}'.format([t for t in theta]))"
   ]
  },
  {
   "cell_type": "markdown",
   "metadata": {},
   "source": [
    "### Implement `predict_tweet()` to predict tweet's class"
   ]
  },
  {
   "cell_type": "code",
   "execution_count": 230,
   "metadata": {},
   "outputs": [],
   "source": [
    "def predict_tweet(tweet,theta,freqs):\n",
    "    '''\n",
    "    Input:\n",
    "        tweet: tweet to predict\n",
    "        theta:hyperparameter vector or matrix of form (3,1)\n",
    "        freqs:dictionary of all words\n",
    "    Output:\n",
    "        y_pred: tweet's prediction\n",
    "    '''\n",
    "    clean_tweet = process_tweet(tweet)\n",
    "    x = extract_features(clean_tweet,freqs)\n",
    "    \n",
    "    #generate predictions\n",
    "    y_pred = np.dot(x,theta)\n",
    "    \n",
    "    return y_pred"
   ]
  },
  {
   "cell_type": "code",
   "execution_count": 231,
   "metadata": {
    "scrolled": true
   },
   "outputs": [
    {
     "name": "stdout",
     "output_type": "stream",
     "text": [
      "I am happy :) -> [2.17022849] -> [0.89754398]\n",
      "i miss you :( -> [-2.6132693] -> [0.0682893]\n",
      "you are mean -> [-0.009147] -> [0.49771327]\n",
      "He is good -> [0.07886909] -> [0.51970706]\n",
      "I love you -> [0.14266414] -> [0.53560566]\n",
      "The movie ended sadly ;( -> [-0.0189402] -> [0.49526509]\n",
      "he must be depressed -> [-0.00012775] -> [0.49996806]\n"
     ]
    }
   ],
   "source": [
    "#test function\n",
    "t_s = ['I am happy :)','i miss you :(','you are mean','He is good','I love you','The movie ended sadly ;(','he must be depressed']\n",
    "for t in t_s:\n",
    "    print('{tweet} -> {pred} -> {sig}'.format(tweet=t,pred=predict_tweet(t,theta,freqs),sig=sigmoid(predict_tweet(t,theta,freqs))))"
   ]
  },
  {
   "cell_type": "markdown",
   "metadata": {},
   "source": [
    "### The `test_logistic_model()` function calculates the model accuracy"
   ]
  },
  {
   "cell_type": "code",
   "execution_count": 252,
   "metadata": {},
   "outputs": [
    {
     "ename": "SyntaxError",
     "evalue": "invalid syntax (<ipython-input-252-b90d5a085050>, line 14)",
     "output_type": "error",
     "traceback": [
      "\u001b[1;36m  File \u001b[1;32m\"<ipython-input-252-b90d5a085050>\"\u001b[1;36m, line \u001b[1;32m14\u001b[0m\n\u001b[1;33m    if theta not None:\u001b[0m\n\u001b[1;37m                    ^\u001b[0m\n\u001b[1;31mSyntaxError\u001b[0m\u001b[1;31m:\u001b[0m invalid syntax\n"
     ]
    }
   ],
   "source": [
    "def test_logistic_model(test_x,freqs,theta=None,model=None):\n",
    "    '''\n",
    "    Input:\n",
    "        test_x: Data to generate predicts on\n",
    "        test_y:Actual values\n",
    "        freqs:dictionary of all words\n",
    "        theta: hyperparameter vector or matrix of form (3,1)\n",
    "    Output:\n",
    "        y_hat: This is the model's predictions\n",
    "    '''\n",
    "    \n",
    "    m = len(test_x)\n",
    "    y_hat = []\n",
    "    if theta not None:\n",
    "        for tweet in test_x:\n",
    "            #generate z for sigmoid func\n",
    "            z = predict_tweet(tweet,theta,freqs)\n",
    "            #generate models predictions\n",
    "            pred = sigmoid(z)\n",
    "\n",
    "\n",
    "            if pred > 0.5:\n",
    "                y_hat.append(1)\n",
    "            else:\n",
    "                y_hat.append(0)\n",
    "        return y_hat\n",
    "    elif model is None:\n",
    "        for tweet in test_x:\n",
    "            clean_tweet = process_tweet(tweet)\n",
    "            x = extract_features(clean_tweet,freqs)\n",
    "            y_hat.append(model.predict(x))\n",
    "\n",
    "        return y_hat"
   ]
  },
  {
   "cell_type": "markdown",
   "metadata": {},
   "source": [
    "### Print Model's Result"
   ]
  },
  {
   "cell_type": "code",
   "execution_count": 249,
   "metadata": {},
   "outputs": [
    {
     "ename": "ValueError",
     "evalue": "The truth value of an array with more than one element is ambiguous. Use a.any() or a.all()",
     "output_type": "error",
     "traceback": [
      "\u001b[1;31m---------------------------------------------------------------------------\u001b[0m",
      "\u001b[1;31mValueError\u001b[0m                                Traceback (most recent call last)",
      "\u001b[1;32m<ipython-input-249-53903e577073>\u001b[0m in \u001b[0;36m<module>\u001b[1;34m()\u001b[0m\n\u001b[1;32m----> 1\u001b[1;33m \u001b[0mpred\u001b[0m \u001b[1;33m=\u001b[0m \u001b[0mtest_logistic_model\u001b[0m\u001b[1;33m(\u001b[0m\u001b[0mtest_x\u001b[0m\u001b[1;33m,\u001b[0m\u001b[0mfreqs\u001b[0m\u001b[1;33m,\u001b[0m\u001b[0mtheta\u001b[0m\u001b[1;33m)\u001b[0m\u001b[1;33m\u001b[0m\u001b[0m\n\u001b[0m",
      "\u001b[1;32m<ipython-input-248-3a9816f6d247>\u001b[0m in \u001b[0;36mtest_logistic_model\u001b[1;34m(test_x, freqs, theta, model)\u001b[0m\n\u001b[0;32m     12\u001b[0m     \u001b[0mm\u001b[0m \u001b[1;33m=\u001b[0m \u001b[0mlen\u001b[0m\u001b[1;33m(\u001b[0m\u001b[0mtest_x\u001b[0m\u001b[1;33m)\u001b[0m\u001b[1;33m\u001b[0m\u001b[0m\n\u001b[0;32m     13\u001b[0m     \u001b[0my_hat\u001b[0m \u001b[1;33m=\u001b[0m \u001b[1;33m[\u001b[0m\u001b[1;33m]\u001b[0m\u001b[1;33m\u001b[0m\u001b[0m\n\u001b[1;32m---> 14\u001b[1;33m     \u001b[1;32mif\u001b[0m \u001b[0mtheta\u001b[0m\u001b[1;33m:\u001b[0m\u001b[1;33m\u001b[0m\u001b[0m\n\u001b[0m\u001b[0;32m     15\u001b[0m         \u001b[1;32mfor\u001b[0m \u001b[0mtweet\u001b[0m \u001b[1;32min\u001b[0m \u001b[0mtest_x\u001b[0m\u001b[1;33m:\u001b[0m\u001b[1;33m\u001b[0m\u001b[0m\n\u001b[0;32m     16\u001b[0m             \u001b[1;31m#generate z for sigmoid func\u001b[0m\u001b[1;33m\u001b[0m\u001b[1;33m\u001b[0m\u001b[0m\n",
      "\u001b[1;31mValueError\u001b[0m: The truth value of an array with more than one element is ambiguous. Use a.any() or a.all()"
     ]
    }
   ],
   "source": [
    "pred = test_logistic_model(test_x,freqs,theta)"
   ]
  },
  {
   "cell_type": "code",
   "execution_count": 246,
   "metadata": {},
   "outputs": [
    {
     "name": "stdout",
     "output_type": "stream",
     "text": [
      "              precision    recall  f1-score   support\n",
      "\n",
      "         0.0       1.00      0.99      1.00       988\n",
      "         1.0       1.00      1.00      1.00      1012\n",
      "\n",
      "   micro avg       1.00      1.00      1.00      2000\n",
      "   macro avg       1.00      1.00      1.00      2000\n",
      "weighted avg       1.00      1.00      1.00      2000\n",
      "\n"
     ]
    }
   ],
   "source": [
    "print(classification_report(test_y,pred))"
   ]
  },
  {
   "cell_type": "code",
   "execution_count": 247,
   "metadata": {},
   "outputs": [
    {
     "data": {
      "text/plain": [
       "array([[ 5.89728440e-08],\n",
       "       [ 5.59764008e-04],\n",
       "       [-5.38166378e-04]])"
      ]
     },
     "execution_count": 247,
     "metadata": {},
     "output_type": "execute_result"
    }
   ],
   "source": [
    "model"
   ]
  },
  {
   "cell_type": "code",
   "execution_count": null,
   "metadata": {},
   "outputs": [],
   "source": []
  }
 ],
 "metadata": {
  "kernelspec": {
   "display_name": "Python 2",
   "language": "python",
   "name": "python2"
  },
  "language_info": {
   "codemirror_mode": {
    "name": "ipython",
    "version": 2
   },
   "file_extension": ".py",
   "mimetype": "text/x-python",
   "name": "python",
   "nbconvert_exporter": "python",
   "pygments_lexer": "ipython2",
   "version": "2.7.16"
  }
 },
 "nbformat": 4,
 "nbformat_minor": 2
}
